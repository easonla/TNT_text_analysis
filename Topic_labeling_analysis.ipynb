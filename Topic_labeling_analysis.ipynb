{
 "cells": [
  {
   "cell_type": "code",
   "execution_count": 1,
   "metadata": {
    "collapsed": true
   },
   "outputs": [],
   "source": [
    "import pandas as pd\n",
    "topic_labeling = pd.read_csv('data/Henry-UN-topic-labeling.tsv',sep='\\t')"
   ]
  },
  {
   "cell_type": "code",
   "execution_count": 2,
   "metadata": {
    "collapsed": false,
    "scrolled": true
   },
   "outputs": [
    {
     "name": "stdout",
     "output_type": "stream",
     "text": [
      "246     0.332116\n",
      "298     0.818097\n",
      "411     0.573234\n",
      "440     0.282244\n",
      "734     0.329450\n",
      "1019    0.341667\n",
      "1149    0.957851\n",
      "1195    0.807806\n",
      "1207    0.911770\n",
      "1235    0.274462\n",
      "Name: healthcare, dtype: float64\n",
      "45      0.988627\n",
      "131     0.985713\n",
      "200     0.989986\n",
      "238     0.991636\n",
      "272     0.991816\n",
      "320     0.988667\n",
      "365     0.991942\n",
      "417     0.983499\n",
      "451     0.992401\n",
      "1271    0.989146\n",
      "Name: rubber-trading, dtype: float64\n",
      "76      0.669805\n",
      "111     0.575443\n",
      "222     0.899232\n",
      "264     0.638198\n",
      "464     0.883524\n",
      "487     0.931151\n",
      "800     0.727959\n",
      "846     0.757667\n",
      "1177    0.719182\n",
      "1256    0.670066\n",
      "Name: TW-JP , dtype: float64\n",
      "15     0.808909\n",
      "19     0.878935\n",
      "253    0.855208\n",
      "633    0.743727\n",
      "666    0.886070\n",
      "679    0.793062\n",
      "758    0.778534\n",
      "903    0.776219\n",
      "945    0.839500\n",
      "994    0.935286\n",
      "Name: drainage, dtype: float64\n",
      "144    0.845585\n",
      "189    0.890030\n",
      "236    0.802511\n",
      "274    0.861013\n",
      "574    0.852949\n",
      "612    0.960192\n",
      "672    0.825798\n",
      "777    0.794421\n",
      "780    0.822883\n",
      "847    0.815035\n",
      "Name: relief, dtype: float64\n",
      "16     0.708972\n",
      "132    0.834411\n",
      "507    0.919326\n",
      "513    0.773823\n",
      "606    0.810451\n",
      "737    0.814861\n",
      "844    0.893544\n",
      "931    0.804272\n",
      "985    0.886994\n",
      "993    0.832054\n",
      "Name: water-development, dtype: float64\n"
     ]
    }
   ],
   "source": [
    "## Similarity Score for each topic\n",
    "for col in topic_labeling.columns:\n",
    "    if col == 'text' or col == 'id': pass\n",
    "    else:\n",
    "        print (topic_labeling[col].nlargest(n=10).sort_index())"
   ]
  },
  {
   "cell_type": "code",
   "execution_count": 3,
   "metadata": {
    "collapsed": false,
    "scrolled": true
   },
   "outputs": [
    {
     "name": "stdout",
     "output_type": "stream",
     "text": [
      "===============\n",
      "944\n",
      "page 12 MEDICAL SUPPLIES (CON.) 1. Creoscto Corhonate 2. Sodium Bonzoate . Sparteine Sulfate i Guaiacol Carbonate 5. Terpine Hydrote 7: Aluminum Acetate 8 Caffeine 9. Potassiun Iodido 10 Sir, Tolu 11. Spirits or Chloroform 12. Lanolin 13. Petrolatun 14. Wool Foot 15. Xylol 6, Cedar Oil 17 Icthanmolis 18. 0il Cajaput 19 Amonia Arometic 20. Sulfur Frec. 21. Hexylresorcinal Crystoids 22. Santonin 23 Gentien Violet Tablets 24 Neostam 25. Benzyl Benzoate 26. Smal1 Pox Vaccine 27. Diptheria Toxoid 28 Totanus Anti toxin 28. Diptheria Anti- toxin Supplement 4 1. Applicators Applicator, nasal, noncorrosive metal 2 Atonizer, hand and rubber bulb 3. Bandage, gauze, compress 2-in cam, 4 5. Bath eye 6. Blower, powder, with rubber bul b 7: Brush, hand surgeons \" 3-in 8. Gatheter, rubber, Bem-rieid No: 10: t No, 24F Soft No. 10F 14F n t tT 12; Cotton absorbent 13: Crinoline 36\" wide 14: Cup. Sputum paper, 50 in pkg 15, Cushion air ring 18\" dianm\n",
      "===============\n",
      "791\n",
      "page 16 REQUEST SUP LIES FOR 10 HOSPIEAL LABORATOR.IS3 (Liberated Area) Generel Leboratosy Needsi (Por l Laboratory) ooo ton, a beorbent roll - Pipettes: 2bs 6 1 liter 5 cc grad.-  Ether Acetone- nenee1 liter S1ides -20 boxes Test tubes, pyrex Cedarwood oil, immerosion -- Paper, PH indicator, stris Syringe, 10 cc. wece6 doz. 8 oz. 400 4 doz Beaker, 1000 cc: dentrifuge, Brush est tube, I-i/en and 1/a 10 ....ot each . hand - \" ungraduated \"-- 36 Burette, 50 cc. Clamp, adjustable for burettes cyltnder, eradtua ted, 500 00 od. - 500 cc. volumetric, 100 co, 3 2 250 co. -2 500 co.2 \" \" 1000 c Funnel, glass, 50 mm. Microscope., mechanical stage1 \" lens\"\"\" Test tube support, wood 3 Tubing, glass, 6 m, and 10 m 12 ft, of ea 9 ft. 6 rubber -\" Wire gauze Penoil, wax 1000 Scai6, prescruption-\n",
      "===============\n",
      "657\n",
      "page 19 Blood lancet- Pallquist book Sahli heinoglobinouster 17 1t tubes pipettes tI ydrochlorio aoid, concontrated 3 4 oz Diluting pipettes with rubber tubing for red blood cells Diluting pipettos with rubber tubing for whitc blo d 12 cheaber oovez gi, ssGS Sodiua chlorldo .. Diluting fluid for red celu count: 20 gms o100 hite blood cell diluting nuid: 50 cc. 6 gns . %2ight's stain owder Buffer solution for rightts and Giensa's stains: Potassium phosphete (monobasic)20 gns Gionca powdor5 Methyl alcohol, ebsolute (aoctone frec) 400 oc. -40 gas Giensats stoin: Brilliant crosyl blue (xor platelet and reticulocyto Vials 1/2 oz.-6 Formaldehyde25 cc gnis\n",
      "===============\n",
      "169\n",
      "page l Tosei coun: diluting fluid: Protcin: phonolphthalein0. 4 gns Occult bl.ood: Bonzidinc anounts lintca under urino and. hydrogon peroxide)tocos should auffict fohin\n",
      "===============\n",
      "175\n",
      "page 32 Iron-hetoylin otsin: Benzidine (xecc nt or ocoult lood) 50 c. Sodiun hydroxiae- Bonzidins Fydrogen peroxide)ula surfice for this 480 gas anounts listed under urine and\n",
      "===============\n",
      "348\n",
      "page 23 Kahn tost tubes, 75 x 10m, (inoido dianctor)300 ies For an tigan suapngion, 55 (inoido diameter) wich ilat bottom12 1 cc 0,2 or 0,25 oc. Graducted id 0.001 cc.- 3 Kahn test tube .cice (5 rowe of holes-. 10 holos per or if antigen ust bo prepa ed: standard Kehn antigen(for couprison at lcast Mazzini tcet: Diezzial aa0180 30 cc. a1 33 tubes\n",
      "===============\n",
      "172\n",
      "page 24 LAst of Hospitals suggoctod for the plccomont or Laboratory Equipment: Lin-I Chu Hsien Chu cheng Chefoo Lai Yeng Wentang Ping-Tu weimin Lo Ling Hsien Chan Hwa Hoion\n",
      "===============\n",
      "985\n",
      "page 25 ..j\" Total for 10 Scoo1s 2-24.ATMti.......'... i Items per Sohool 18 large sheets (14 rt, eech) 9 draw sheets (6 rt. each) 9 yards rubberized material 180 90 (for bed protection) 15 ya ds unbleached uelin or sheeting 150 60 6 spreada (could bs nide of unblea ched muslin) 60 6 blenke ts 6 pillows 12 pillow ceses 27 bath towels 27 fece (or treatment) towels 60 120 270 270 270 120 27 wash oloths 12 patient s gowns 12n pyjanas robes 4 2 feed.i.ng cups 6 bols for food. 3 hair conbs 3 fine tooth coabs 9 isolation goins 0 60 30 30 90 00 30 masks 4 beth basins A soap dishes 4 mouth cups 5 curve basins (snell) 3 bed pans 1 urinal l ste: ilize 1 electio late 2 elcohol lamps 2 hot rate: botes 1 ice c. p 4 pair rubber Bloves-size 6 or 7 2 ibrigating ocns 6 yards rtbt cr tub , (foz irrigating cans) | 60 40 30 50 10 10 10 20 20 10 4.0 20 20 20 10 20 120 20 20 Ro 1 lavage cubc 2 douche tips 12 ther ometers  enaal jars ith cove 2 glass jars with cover 2 buckots (enamel) with lid\n",
      "===============\n",
      "937\n",
      "page 26 1 seuce pen 10 10 20 30 20 10 50 20 60 10 10 300 300 300 120 300 60 l strainer 2 sponge forceps 3 hemostats 2 bandgge scissors 1 scalpol & blados 3 luer syringes 2 co. irrigating syringes 6 hypodermic needls (25 x 3/4) 1-500 co greduate 1-1000 cc 30 roller bondage 1\" 30 50 st 12 triangular bandeges 50 yards gauzc 6 pounds cotn 500 epplicator stice 3000 6 spools adhcsive tepe 60 60 10 300 10 10 30 6 toilet paper 30 cakes soap 1 gt. bacl: rub solution 1, gt. al cohol 5 tubes lubricating jolly lb. petrolatum 25 1b. floxsesd 1b. mustard 3 lb. flour 8 oz. ineral oil 1 pt, nouch wash colution 3 splins 2 lbs taloun potdez 12 medieine cups 12 eye drop ers 1 undine for ee irrigation 2 funnols 5 30 80 80 10 30 20 120 120 10 20 60 30 10 6 glass ,coneoing tubes stetionory ups examination paper etc. To be provised 1 bs ck rest l crade for elovating bed clothes 30 chats and hospit:l forns 1 stupe wringer 2 large trays snall trays\n",
      "===============\n",
      "786\n",
      "page 27 Iteng for 10 Hosnitale Items or 1 Hospital sesleton th opperate skull, seperate liioroscope  10 .10 10 1.0 Specimen in fornalin of brain, kidney, 6 glass covored jars or specinens 6 dissecting pans for peraffin 6 flat glass dishes 6 finger bovls 6 small glass jars 12 dissecting necdles 12 disseoting forceps 6 soalpels 6 pairs scissor s 6 bunsen burners 6 tripods 6 wire screens 6 amall alcohol lanps 6 specimen dishes 30 slides  cover 1ips 2 red wax pencils 56 test tubes 6 test tube racks 6 test.tube holders 6 glass funnels 3 mortars and pestles 60 60 60 60 60 120 120 60 60 60 60 60 60 300 20 360 60 60 60 filter paper 1itnus paper Hydroohloric acia 12 10% Fohlings solution Benedicts solution Iodine Sodium Hydroxide Alcohol Formalin 6 glase stirring rods 6 pipettes 60 60\n",
      "===============\n",
      "278\n",
      "page 28 Items for l Hospital Items for 10 Hospita 2 urinometers 2 hemoglobinometers Gention Violet Methylene blue Centrituge 20 Suppliesor loseital Areas wh ch have desired to have Nursing Scools: Lin-I Po Hai Area Hveimin Lo Ling Hsien Chan Hwa Hsien Chefoo Lai Yang (sugge st)\n",
      "===============\n",
      "850\n",
      "page For 10 Schools Harris Medic. I Mursing Stovens, Arthur Medical Diseasas or Hurses x Radclirie Infecti us diseasss Infectious Diseases Skin Diseases Urological Hu sing Genito Urinary Nur sing Surgical Nursing Surgieal ursing Surgical Instrunents Goneral Anesthesia Notes on Anesthesia care of Eye Cases Gynecology end Obstetrical Nursing obstetrics for Nunses Questions and Answers in Obstetrios for Nurses Rowley x Walsh David x Davis David x Cabot Hugh Dinela cker Stevenson x Townsend x Elliot Robert x De Lee Rowley De Lee idwitery for Nurses Notes on Mdvifery x Rowley PUBLIC HCALT 10 sots Publie Health Nursing League of Nations Public Heanth Nursing Taprovised equip ent in the Home re of tha sick x o1son x English and Chinese Conversation bookk for urses x Minimua essential boos needed for nursing schools x These publioctions yreforred\n",
      "===============\n",
      "924\n",
      "page 9 HEGE.IAY EQU lih.:T Lin11 Chefoo Pohai Total Surveying & mapping instrments sets Wheel barrows TrowelS Sand bags Well drillors (complet) 2 2 100 50 1,000 100 50 1,000 100 50 150 1,000 3,000 6 2 Miscellaneous: Chalk Line s Steel Tapes crow bars  Stone Chisels Mallets Supplement 3 No. 2000 Beds 29 Hosps Acetone Acid, Acetic Acid, Benzoic Aoid, Boric (powdered) Acid, hydrochloric Acid, Nitric Acid, Salicylic Acid, Tannic 2 3 5 6. 7. 8 Acid, Trichoracetic Adrenalin Amnon i um chloride Amyl-nitrate, 5-minum pearl. 12 in a boz Antimony and Potassium tartrate . Atabrin Asptrin Amidopyrine Antipyrine Codeine Morphine S04 Bisnuth subsalicylate Bi smuth subcarbonate 10. 12: 13: 14; 15. 16. 18: 19: 20. 21- 23 Gelelum dauoonete 10g Calcium Gluconate 10 Solution Camphor Calcium Chloride Chloral , Hydrato dextroso, anhydrous powder Water, Dis. for injection Spir. Ether Solution 24. 27. 28. 29. 30. her (for anesthesia)\n"
     ]
    }
   ],
   "source": [
    "## Eyeball search for common words in rubber-trading topic\n",
    "rubber_text = topic_labeling.loc[topic_labeling['rubber-trading']>0.95,'text']\n",
    "for text in rubber_text:\n",
    "    print ('===============')\n",
    "    print (len(text))\n",
    "    print (text)"
   ]
  },
  {
   "cell_type": "code",
   "execution_count": 4,
   "metadata": {
    "collapsed": false
   },
   "outputs": [
    {
     "data": {
      "text/plain": [
       "[('Kahn', 2),\n",
       " ('Lin', 2),\n",
       " ('Lo Ling', 2),\n",
       " ('Bonzoate', 1),\n",
       " ('Sparteine Sulfate', 1)]"
      ]
     },
     "execution_count": 4,
     "metadata": {},
     "output_type": "execute_result"
    }
   ],
   "source": [
    "## spaCy entities analysis, search for common words in each ents label\n",
    "## Test1\n",
    "import spacy\n",
    "from collections import defaultdict, Counter\n",
    "nlp = spacy.load('en_core_web_sm')\n",
    "threshold = 0.7\n",
    "rubber_text = topic_labeling.loc[topic_labeling['rubber-trading']>threshold,'text']\n",
    "label_dic = defaultdict(list)\n",
    "for text in rubber_text:\n",
    "    doc = nlp(text)\n",
    "    for item in doc.ents:\n",
    "        label_dic[item.label_].append(item.text)\n",
    "Counter(label_dic['PERSON']).most_common(5)"
   ]
  },
  {
   "cell_type": "code",
   "execution_count": 5,
   "metadata": {
    "collapsed": false
   },
   "outputs": [
    {
     "data": {
      "text/plain": [
       "[('Wu', 2), ('Tidal', 1), ('Tanshui Ho', 1), ('River', 1), ('Choshui', 1)]"
      ]
     },
     "execution_count": 5,
     "metadata": {},
     "output_type": "execute_result"
    }
   ],
   "source": [
    "## Test2\n",
    "threshold = 0.5\n",
    "TW_JP_text = topic_labeling.loc[topic_labeling['TW-JP ']>threshold,'text']\n",
    "label_dic = defaultdict(list)\n",
    "for text in TW_JP_text:\n",
    "    doc = nlp(text)\n",
    "    for item in doc.ents:\n",
    "        label_dic[item.label_].append(item.text)\n",
    "Counter(label_dic['PERSON']).most_common(5)"
   ]
  },
  {
   "cell_type": "code",
   "execution_count": 6,
   "metadata": {
    "collapsed": true
   },
   "outputs": [],
   "source": [
    "def print_common_term(data,topic,threshold=0.7):\n",
    "    \"\"\"\n",
    "    print common term given data, topic and threshold\n",
    "    \"\"\"\n",
    "    texts = data.loc[data[topic]>threshold,'text']\n",
    "    label_dic = defaultdict(list)\n",
    "    for text in texts:\n",
    "        doc = nlp(text)\n",
    "        for item in doc.ents:\n",
    "            label_dic[item.label_].append(item.text)\n",
    "    for keys in label_dic.keys():\n",
    "        if len(label_dic[keys]) < 5:\n",
    "            #print ('Cannot find common words in {:s} ents lable_ for topic {:s}\\n'.format(keys,topic))\n",
    "            pass\n",
    "        else:\n",
    "            print ('Most common entities in {:s} for topic {:s}'.format(keys,topic))\n",
    "            print (Counter(label_dic[keys]).most_common(5))"
   ]
  },
  {
   "cell_type": "code",
   "execution_count": 7,
   "metadata": {
    "collapsed": false
   },
   "outputs": [
    {
     "name": "stdout",
     "output_type": "stream",
     "text": [
      "Most common entities in CARDINAL for topic rubber-trading\n",
      "[('6', 22), ('2', 17), ('1', 16), ('12', 13), ('10', 12)]\n",
      "Most common entities in ORG for topic rubber-trading\n",
      "[('Creoscto Corhonate', 1), ('Terpine Hydrote', 1), ('Potassiun Iodido', 1), ('Chloroform', 1), ('Cedar Oil', 1)]\n",
      "Most common entities in PERSON for topic rubber-trading\n",
      "[('Kahn', 2), ('Lin', 2), ('Lo Ling', 2), ('Bonzoate', 1), ('Sparteine Sulfate', 1)]\n",
      "Most common entities in QUANTITY for topic rubber-trading\n",
      "[('8 Caffeine', 1), ('Neostam 25', 1), ('5 cc', 1), ('10 m', 1), ('9 yards', 1)]\n",
      "Most common entities in PERCENT for topic rubber-trading\n",
      "[('0il Cajaput 19', 1), ('3-in 8.', 1), ('10F 14F n', 1), ('30 30 90 00 30 masks', 1), ('6 test.tube holders', 1)]\n",
      "Most common entities in DATE for topic rubber-trading\n",
      "[('Supplement 4 1', 1), ('50', 1), ('2bs 6 1', 1), ('Sohool 18', 1), ('6 pillows', 1)]\n",
      "Most common entities in GPE for topic rubber-trading\n",
      "[('PH', 1), ('Penoil', 1), ('Diluting', 1), ('Obstetrios', 1), ('Acetic Acid', 1)]\n"
     ]
    }
   ],
   "source": [
    "print_common_term(topic_labeling,'rubber-trading',threshold=0.7)"
   ]
  },
  {
   "cell_type": "code",
   "execution_count": 8,
   "metadata": {
    "collapsed": false
   },
   "outputs": [
    {
     "name": "stdout",
     "output_type": "stream",
     "text": [
      "====================\n",
      "Finding common terms for healthcare\n",
      "Most common entities in ORG for topic healthcare\n",
      "[('CNRRA', 2), ('Cholera', 2), ('Administrative Services', 2), ('the Executive', 2), ('Regional offi00 Monthly Report', 1)]\n",
      "Most common entities in CARDINAL for topic healthcare\n",
      "[('1', 5), ('one', 4), ('seven', 2), ('eight', 2), ('two', 2)]\n",
      "Most common entities in DATE for topic healthcare\n",
      "[('Jan. 21', 2), ('May 20, 1946', 1), ('past years', 1), ('daily', 1), ('May 18th', 1)]\n",
      "Most common entities in GPE for topic healthcare\n",
      "[('Shanghai', 4), ('Anopheles', 1), ('Distriet 3', 1), ('Supervi', 1), ('Pediatrie', 1)]\n",
      "Most common entities in PERSON for topic healthcare\n",
      "[('Clinie', 1), ('Ho', 1), ('Cubillero', 1), (\"Bro w's\", 1), ('Caballero', 1)]\n",
      "====================\n",
      "Finding common terms for rubber-trading\n",
      "Most common entities in CARDINAL for topic rubber-trading\n",
      "[('6', 24), ('2', 18), ('1', 16), ('12', 14), ('10', 12)]\n",
      "Most common entities in ORG for topic rubber-trading\n",
      "[('Creoscto Corhonate', 1), ('Terpine Hydrote', 1), ('Potassiun Iodido', 1), ('Chloroform', 1), ('Cedar Oil', 1)]\n",
      "Most common entities in PERSON for topic rubber-trading\n",
      "[('Kahn', 2), ('Lin', 2), ('Lo Ling', 2), ('Bonzoate', 1), ('Sparteine Sulfate', 1)]\n",
      "Most common entities in QUANTITY for topic rubber-trading\n",
      "[('8 Caffeine', 1), ('Neostam 25', 1), ('5 cc', 1), ('10 m', 1), ('9 yards', 1)]\n",
      "Most common entities in PERCENT for topic rubber-trading\n",
      "[('0il Cajaput 19', 1), ('3-in 8.', 1), ('10F 14F n', 1), ('30 30 90 00 30 masks', 1), ('6 test.tube holders', 1)]\n",
      "Most common entities in DATE for topic rubber-trading\n",
      "[('Supplement 4 1', 1), ('50', 1), ('2bs 6 1', 1), ('Sohool 18', 1), ('6 pillows', 1)]\n",
      "Most common entities in GPE for topic rubber-trading\n",
      "[('Canton', 2), ('Shanghai', 2), ('PH', 1), ('Penoil', 1), ('Diluting', 1)]\n",
      "====================\n",
      "Finding common terms for TW-JP \n",
      "Most common entities in ORG for topic TW-JP \n",
      "[('Flood', 1), ('Hydraulic', 1), ('PWCB', 1), ('JCRR', 1), ('1s', 1)]\n",
      "Most common entities in CARDINAL for topic TW-JP \n",
      "[('one', 20), ('1', 6), ('four', 4), ('One', 3), ('two', 3)]\n",
      "Most common entities in PERSON for topic TW-JP \n",
      "[('Wu', 2), ('Tidal', 1), ('Tanshui Ho', 1), ('River', 1), ('Choshui', 1)]\n",
      "Most common entities in LOC for topic TW-JP \n",
      "[('Pelkang Chi', 1), (' wide', 1), ('the Tanshut Ho', 1), ('Peikang River', 1), ('South', 1)]\n",
      "Most common entities in GPE for topic TW-JP \n",
      "[('Shanghai', 2), ('Kaoping', 1), ('confer-', 1), ('Tatwe', 1), ('Kaohstung', 1)]\n",
      "Most common entities in ORDINAL for topic TW-JP \n",
      "[('first', 4), ('secondary', 2), ('1ts', 1), ('nonth', 1), ('1eo', 1)]\n",
      "Most common entities in QUANTITY for topic TW-JP \n",
      "[('1mportantder entire', 1), ('1e,070,000 5,210,000', 1), ('17,040,000 121,160,000', 1), ('5,390,000 1943', 1), ('1914 1945 131,980', 1)]\n",
      "Most common entities in DATE for topic TW-JP \n",
      "[('1936', 2), ('the same 68', 1), ('annually', 1), ('forty', 1), ('15 or 17 factories', 1)]\n",
      "Most common entities in NORP for topic TW-JP \n",
      "[('Japanese', 4), ('Chinese', 1), ('Tean', 1), ('-water is out', 1)]\n",
      "====================\n",
      "Finding common terms for drainage\n",
      "Most common entities in ORDINAL for topic drainage\n",
      "[('second', 9), ('first', 2), ('1ie', 1), ('togeth', 1), ('Tertiary', 1)]\n",
      "Most common entities in ORG for topic drainage\n",
      "[('Joint', 2), ('Joints', 2), ('Jointed', 2), ('Miocene', 2), ('Pliocene', 2)]\n",
      "Most common entities in CARDINAL for topic drainage\n",
      "[('two', 8), ('1', 8), ('one', 7), ('20', 7), ('1s', 7)]\n",
      "Most common entities in QUANTITY for topic drainage\n",
      "[('(66 feet', 3), ('(353 cubic feet', 2), ('1ron-stained', 1), ('50 degrees', 1), ('TO6 cubic feet', 1)]\n",
      "Most common entities in GPE for topic drainage\n",
      "[('Taiwan', 20), ('Taivan', 5), ('Tulungwan', 4), ('Puli', 3), ('Jointing', 2)]\n",
      "Most common entities in PERSON for topic drainage\n",
      "[('Miocene', 2), ('North', 1), ('Boft', 1), ('Blso', 1), ('Bource', 1)]\n",
      "Most common entities in LOC for topic drainage\n",
      "[('the Central Mountain System', 2), ('South-East', 2), ('West', 1), ('the Central Mountain Range', 1), ('the Wushantou Reservoir', 1)]\n",
      "Most common entities in DATE for topic drainage\n",
      "[('today', 4), ('year', 2), ('annual', 2), ('several years', 2), ('the end of', 1)]\n",
      "Most common entities in FAC for topic drainage\n",
      "[('the Special Fund Team', 1), ('the Chianan Plain', 1), ('the Tungkou Intake', 1), ('Chianan Plain -21-', 1), ('the Pliocene Epoch', 1)]\n",
      "Most common entities in TIME for topic drainage\n",
      "[('com- hours', 1), ('168-', 1), ('early in', 1), ('1ndi- range', 1), ('1ine', 1)]\n",
      "Most common entities in NORP for topic drainage\n",
      "[('Chinese', 1), ('South-Bast', 1), ('Ton', 1), ('Paolai', 1), ('Japanese', 1)]\n",
      "====================\n",
      "Finding common terms for relief\n",
      "Most common entities in CARDINAL for topic relief\n",
      "[('one', 4), ('1', 4), ('two', 3), ('8', 3), ('2', 2)]\n",
      "Most common entities in ORG for topic relief\n",
      "[('CNRRA', 10), ('UNRRA', 6), ('NHA', 4), ('URRA', 3), ('NEA', 2)]\n",
      "Most common entities in PERSON for topic relief\n",
      "[('Yang', 3), ('Winston Yung', 2), ('Yue', 2), ('Lann', 2), ('Harbin', 2)]\n",
      "Most common entities in GPE for topic relief\n",
      "[('Kalgan', 5), ('Shanghai', 4), ('Nanking', 3), ('Chahar', 3), ('Suiyuan', 2)]\n",
      "Most common entities in DATE for topic relief\n",
      "[('the month', 2), ('daily', 2), ('month', 1), ('Yesterday', 1), ('seven months ago', 1)]\n",
      "Most common entities in MONEY for topic relief\n",
      "[('200,000,000', 2), ('40,000,000', 2), ('8,358,000,000', 1), ('6,000,000,000', 1), ('950,000,000', 1)]\n",
      "Most common entities in NORP for topic relief\n",
      "[('Nationalists', 2), ('Communist', 2), ('Soviet', 2), ('Soviets', 2), ('Central Hospitals', 1)]\n",
      "====================\n",
      "Finding common terms for water-development\n",
      "Most common entities in ORG for topic water-development\n",
      "[('Team', 4), ('PGWDB', 3), ('WRPC', 2), ('the Republie of China', 2), ('the Tanshui Ho', 2)]\n",
      "Most common entities in CARDINAL for topic water-development\n",
      "[('one', 18), ('1', 9), ('1s', 8), ('18', 5), ('2', 5)]\n",
      "Most common entities in PERSON for topic water-development\n",
      "[('Wu', 6), ('Choshui', 3), ('Peishih', 2), ('Tidal', 2), ('Pude', 2)]\n",
      "Most common entities in ORDINAL for topic water-development\n",
      "[('second', 11), ('first', 6), ('1ts', 3), ('third', 1), ('secondary', 1)]\n",
      "Most common entities in WORK_OF_ART for topic water-development\n",
      "[('1nstallatlonn the Miniotry of Econonte Affaire van', 1), ('Conclusions 80', 1), ('Shh men at Lakeo', 1), ('AB Soon', 1), ('Location of the', 1)]\n",
      "Most common entities in GPE for topic water-development\n",
      "[('Taivan', 9), ('Taiwan', 7), ('Shansi', 4), ('Choshui', 4), ('Tainan', 3)]\n",
      "Most common entities in DATE for topic water-development\n",
      "[('annual', 4), ('1962', 3), ('1959', 2), ('1960', 2), ('1950', 1)]\n",
      "Most common entities in NORP for topic water-development\n",
      "[('Chinese', 3), ('Plans', 2), ('Tean', 2), ('1m-', 1), ('indus-', 1)]\n",
      "Most common entities in QUANTITY for topic water-development\n",
      "[('41scharge is greater than 1t', 1), ('118 1 0 06', 1), ('50 3,402 567', 1), ('505 S05 792 138', 1), ('1,404 6,000', 1)]\n",
      "Most common entities in LOC for topic water-development\n",
      "[('the Choshui basin', 2), ('the Choshui River', 2), ('Tenshut River', 1), ('the Nenshih Chi', 1), ('the Peikang river', 1)]\n"
     ]
    }
   ],
   "source": [
    "## Search all topics\n",
    "for col in topic_labeling.columns:\n",
    "    if col == 'text' or col == 'id': pass\n",
    "    else:\n",
    "        print (\"=\"*20)\n",
    "        print (\"Finding common terms for {:s}\".format(col))\n",
    "        print_common_term(topic_labeling,col,threshold=0.5)"
   ]
  },
  {
   "cell_type": "markdown",
   "metadata": {},
   "source": [
    "Conclusion: Nothing meaningful shows up."
   ]
  }
 ],
 "metadata": {
  "anaconda-cloud": {},
  "kernelspec": {
   "display_name": "Python [conda env:NLP]",
   "language": "python",
   "name": "conda-env-NLP-py"
  },
  "language_info": {
   "codemirror_mode": {
    "name": "ipython",
    "version": 3
   },
   "file_extension": ".py",
   "mimetype": "text/x-python",
   "name": "python",
   "nbconvert_exporter": "python",
   "pygments_lexer": "ipython3",
   "version": "3.6.2"
  }
 },
 "nbformat": 4,
 "nbformat_minor": 2
}
